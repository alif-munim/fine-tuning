{
  "nbformat": 4,
  "nbformat_minor": 0,
  "metadata": {
    "colab": {
      "provenance": [],
      "gpuType": "T4",
      "authorship_tag": "ABX9TyPTW7BjN68bFrnao1xzhz9t",
      "include_colab_link": true
    },
    "kernelspec": {
      "name": "python3",
      "display_name": "Python 3"
    },
    "language_info": {
      "name": "python"
    },
    "accelerator": "GPU"
  },
  "cells": [
    {
      "cell_type": "markdown",
      "metadata": {
        "id": "view-in-github",
        "colab_type": "text"
      },
      "source": [
        "<a href=\"https://colab.research.google.com/github/alif-munim/language-models/blob/main/lora/svd.ipynb\" target=\"_parent\"><img src=\"https://colab.research.google.com/assets/colab-badge.svg\" alt=\"Open In Colab\"/></a>"
      ]
    },
    {
      "cell_type": "markdown",
      "source": [
        "# Singular Value Decomposition\n",
        "To understand LoRA, we first need to understand the rank of matrices and singular value decomposition."
      ],
      "metadata": {
        "id": "DzJ5fF6weVgp"
      }
    },
    {
      "cell_type": "code",
      "execution_count": 1,
      "metadata": {
        "id": "cl_0jbI8Sp9H"
      },
      "outputs": [],
      "source": [
        "import torch\n",
        "import numpy as np\n",
        "_ = torch.manual_seed(0)"
      ]
    },
    {
      "cell_type": "code",
      "source": [
        "\"\"\"\n",
        "The (d, k) matrix represents one hidden layer for a model with input dim d\n",
        "and hidden dim k.\n",
        "\"\"\"\n",
        "\n",
        "d, k = 10, 10\n",
        "W_rank = 2\n",
        "\n",
        "\"\"\"\n",
        "We multiply a (d, 2) matrix by a (2, k) matrix to create a (d, k) matrix\n",
        "This new matrix has many linearly dependent columns (redundancy) and has rank 2\n",
        "\"\"\"\n",
        "W = torch.randn(d, W_rank) @ torch.randn(W_rank, k)\n",
        "print(W)"
      ],
      "metadata": {
        "colab": {
          "base_uri": "https://localhost:8080/"
        },
        "id": "IqCgpubwekQH",
        "outputId": "82d10a3f-aade-41b5-a775-214899f2e041"
      },
      "execution_count": 3,
      "outputs": [
        {
          "output_type": "stream",
          "name": "stdout",
          "text": [
            "tensor([[ 2.8501, -4.1679, -1.2931, -1.7376, -2.5698, -3.2220, -1.4271, -1.2982,\n",
            "          0.2702,  1.2163],\n",
            "        [ 3.2737, -4.7411, -1.4644, -1.9621, -2.9216, -3.6760, -1.6166, -1.4949,\n",
            "          0.2975,  1.3819],\n",
            "        [-0.0141, -3.3560, -1.5177, -2.4550, -2.1852, -1.7979, -1.6433,  0.2801,\n",
            "          0.9375,  1.1010],\n",
            "        [-0.8365,  0.4910,  0.0490, -0.0243,  0.2776,  0.5523,  0.0609,  0.4404,\n",
            "          0.1243, -0.1169],\n",
            "        [-3.9740, -0.6857, -1.1295, -2.3176, -0.6460,  1.0025, -1.1858,  2.3367,\n",
            "          1.4298,  0.4341],\n",
            "        [ 0.7376, -0.9989, -0.2987, -0.3915, -0.6132, -0.7910, -0.3304, -0.3424,\n",
            "          0.0478,  0.2886],\n",
            "        [-2.2472,  1.8582,  0.3750,  0.3281,  1.0966,  1.7733,  0.4272,  1.1393,\n",
            "          0.1840, -0.4908],\n",
            "        [ 0.7821, -0.5984, -0.1087, -0.0790, -0.3502, -0.5912, -0.1251, -0.4004,\n",
            "         -0.0775,  0.1550],\n",
            "        [-0.0482, -0.4016, -0.1912, -0.3150, -0.2638, -0.1991, -0.2066,  0.0602,\n",
            "          0.1267,  0.1342],\n",
            "        [ 0.6151, -0.9209, -0.2887, -0.3906, -0.5685, -0.7068, -0.3184, -0.2785,\n",
            "          0.0642,  0.2695]])\n"
          ]
        }
      ]
    },
    {
      "cell_type": "code",
      "source": [
        "# We can evaluate the rank of the new matrix with numpy\n",
        "W_rank = np.linalg.matrix_rank(W)\n",
        "print(f'Rank of W: {W_rank}')"
      ],
      "metadata": {
        "colab": {
          "base_uri": "https://localhost:8080/"
        },
        "id": "Id39tP2Oe1Vu",
        "outputId": "60e4a1c3-fdc3-4e6a-c5e1-66960f333f4c"
      },
      "execution_count": 4,
      "outputs": [
        {
          "output_type": "stream",
          "name": "stdout",
          "text": [
            "Rank of W: 2\n"
          ]
        }
      ]
    },
    {
      "cell_type": "code",
      "source": [
        "\"\"\"\n",
        "Now, we can decompose the rank-deficient matrix W using singular-value decomposition (SVD).\n",
        "SVD produces 3 matrices U, S, and V which produce W when multiplied.\n",
        "The dimension of USV, however, is much smaller than W.\n",
        "\"\"\"\n",
        "\n",
        "U, S, V = torch.svd(W)\n",
        "\n",
        "# For rank r factorization, we keep only the first r singular values and corresponding columns of U and V\n",
        "S_r = torch.diag(S[:W_rank])\n",
        "U_r = U[:, :W_rank]\n",
        "V_r = V[:, :W_rank].t()\n",
        "\n",
        "# The operator @ performs matrix multiplication\n",
        "B = U_r @ S_r\n",
        "A = V_r\n",
        "print(f'Shape of A: {A.shape}')\n",
        "print(f'Shape of B: {B.shape}')"
      ],
      "metadata": {
        "colab": {
          "base_uri": "https://localhost:8080/"
        },
        "id": "lVh_J-D6forC",
        "outputId": "64750861-cf40-4881-b70d-23cc3fc62279"
      },
      "execution_count": 7,
      "outputs": [
        {
          "output_type": "stream",
          "name": "stdout",
          "text": [
            "Shape of A: torch.Size([2, 10])\n",
            "Shape of B: torch.Size([10, 2])\n"
          ]
        }
      ]
    },
    {
      "cell_type": "code",
      "source": [
        "\"\"\"\n",
        "We can compare the decomposed matrices and the full matrix W by simulating a neural network\n",
        "with random inputs.\n",
        "\"\"\"\n",
        "\n",
        "x = torch.randn(d)\n",
        "bias = torch.randn(d)\n",
        "\n",
        "y_W = W @ x + bias\n",
        "y_BA = (B @ A) @ x + bias\n",
        "\n",
        "print(f'Original output using W:\\n{y_W}\\n')\n",
        "print(f'Recomputed output using low-rank matrices A and B:\\n{y_W}\\n')"
      ],
      "metadata": {
        "colab": {
          "base_uri": "https://localhost:8080/"
        },
        "id": "5cLxi7WJgmjy",
        "outputId": "e990af79-ca21-4d8a-dc43-8070e37791a9"
      },
      "execution_count": 9,
      "outputs": [
        {
          "output_type": "stream",
          "name": "stdout",
          "text": [
            "Original output using W:\n",
            "tensor([ 5.2066,  5.4057,  2.7002,  0.3157, -0.6567,  1.3392, -1.8407,  0.2161,\n",
            "         0.3822,  0.2234])\n",
            "\n",
            "Recomputed output using low-rank matrices A and B:\n",
            "tensor([ 5.2066,  5.4057,  2.7002,  0.3157, -0.6567,  1.3392, -1.8407,  0.2161,\n",
            "         0.3822,  0.2234])\n",
            "\n"
          ]
        }
      ]
    },
    {
      "cell_type": "code",
      "source": [
        "\"\"\"\n",
        "Finally, we compare the total number of parameters.\n",
        "\"\"\"\n",
        "\n",
        "print(\"Total params of W: \", W.nelement())\n",
        "print(\"Total params of B and A: \", B.nelement() + A.nelement())"
      ],
      "metadata": {
        "colab": {
          "base_uri": "https://localhost:8080/"
        },
        "id": "ZtKl4R12jIUd",
        "outputId": "36b2c324-df4a-4b91-af7c-b8b0dfe47411"
      },
      "execution_count": 10,
      "outputs": [
        {
          "output_type": "stream",
          "name": "stdout",
          "text": [
            "Total params of W:  100\n",
            "Total params of B and A:  40\n"
          ]
        }
      ]
    }
  ]
}